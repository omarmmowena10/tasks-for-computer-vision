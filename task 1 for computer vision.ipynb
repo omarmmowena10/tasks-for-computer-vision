{
 "cells": [
  {
   "cell_type": "code",
   "execution_count": null,
   "id": "169c23c2",
   "metadata": {},
   "outputs": [],
   "source": [
    "import numpy as np\n",
    "import cv2\n",
    "\n",
    "photo=cv2.imread(\"C:\\\\Users\\\\COMPUMARTS\\\\Pictures\\\\FB_IMG_1694857614681.jpg\")\n",
    "kernal_size=(3, 3)\n",
    "update_1=cv2.blur(photo,kernal_size)\n",
    "cv2.imshow(\"normal\",photo)\n",
    "cv2.imshow('update',update_1)\n",
    "cv2.waitKey(0)\n",
    "cv2.destroyAllWindows()"
   ]
  },
  {
   "cell_type": "code",
   "execution_count": null,
   "id": "5e40892f",
   "metadata": {},
   "outputs": [],
   "source": []
  }
 ],
 "metadata": {
  "kernelspec": {
   "display_name": "Python 3 (ipykernel)",
   "language": "python",
   "name": "python3"
  },
  "language_info": {
   "codemirror_mode": {
    "name": "ipython",
    "version": 3
   },
   "file_extension": ".py",
   "mimetype": "text/x-python",
   "name": "python",
   "nbconvert_exporter": "python",
   "pygments_lexer": "ipython3",
   "version": "3.11.5"
  }
 },
 "nbformat": 4,
 "nbformat_minor": 5
}
