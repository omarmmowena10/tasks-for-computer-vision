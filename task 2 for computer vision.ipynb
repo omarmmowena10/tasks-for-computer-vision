{
 "cells": [
  {
   "cell_type": "code",
   "execution_count": null,
   "id": "3e749cc5",
   "metadata": {},
   "outputs": [],
   "source": [
    "import numpy as np\n",
    "import matplotlib.pyplot as plt\n",
    "import cv2\n",
    "%matplotlib inline\n",
    "first_img = cv2.imread(\"C:\\\\Users\\\\COMPUMARTS\\\\Pictures\\\\oooo.jpg\")\n",
    "first_img = cv2.cvtColor(first_img, cv2.COLOR_BGR2RGB)\n",
    "Gfirst_img = cv2.cvtColor(first_img, cv2.COLOR_RGB2GRAY)\n",
    "norm = Gfirst_img/255.0\n",
    "def ft_image(norm_image):\n",
    "    f = np.fft.fft2(norm)\n",
    "    fshift = np.fft.fftshift(f)\n",
    "    frequency_tx = 20*np.log(np.abs(fshift))\n",
    "    return frequency_tx\n",
    "f_stripes = ft_image(norm)\n",
    "f, (ax1,ax2)  = plt.subplots(1,2, figsize=(10,5))\n",
    "ax1.imshow(Gfirst_img)\n",
    "ax2.imshow(f_stripes, cmap='gray')"
   ]
  }
 ],
 "metadata": {
  "kernelspec": {
   "display_name": "Python 3 (ipykernel)",
   "language": "python",
   "name": "python3"
  },
  "language_info": {
   "codemirror_mode": {
    "name": "ipython",
    "version": 3
   },
   "file_extension": ".py",
   "mimetype": "text/x-python",
   "name": "python",
   "nbconvert_exporter": "python",
   "pygments_lexer": "ipython3",
   "version": "3.11.5"
  }
 },
 "nbformat": 4,
 "nbformat_minor": 5
}
